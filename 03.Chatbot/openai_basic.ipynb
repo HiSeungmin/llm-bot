{
 "cells": [
  {
   "cell_type": "code",
   "execution_count": 2,
   "metadata": {},
   "outputs": [
    {
     "name": "stdout",
     "output_type": "stream",
     "text": [
      "Requirement already satisfied: openai in c:\\users\\osmin\\workspace\\fastcampus\\ai\\llm-bot\\venv\\lib\\site-packages (1.42.0)Note: you may need to restart the kernel to use updated packages.\n",
      "\n",
      "Requirement already satisfied: anyio<5,>=3.5.0 in c:\\users\\osmin\\workspace\\fastcampus\\ai\\llm-bot\\venv\\lib\\site-packages (from openai) (4.4.0)\n",
      "Requirement already satisfied: distro<2,>=1.7.0 in c:\\users\\osmin\\workspace\\fastcampus\\ai\\llm-bot\\venv\\lib\\site-packages (from openai) (1.9.0)\n",
      "Requirement already satisfied: httpx<1,>=0.23.0 in c:\\users\\osmin\\workspace\\fastcampus\\ai\\llm-bot\\venv\\lib\\site-packages (from openai) (0.27.0)\n",
      "Requirement already satisfied: jiter<1,>=0.4.0 in c:\\users\\osmin\\workspace\\fastcampus\\ai\\llm-bot\\venv\\lib\\site-packages (from openai) (0.4.2)\n",
      "Requirement already satisfied: pydantic<3,>=1.9.0 in c:\\users\\osmin\\workspace\\fastcampus\\ai\\llm-bot\\venv\\lib\\site-packages (from openai) (2.8.2)\n",
      "Requirement already satisfied: sniffio in c:\\users\\osmin\\workspace\\fastcampus\\ai\\llm-bot\\venv\\lib\\site-packages (from openai) (1.3.1)\n",
      "Requirement already satisfied: tqdm>4 in c:\\users\\osmin\\workspace\\fastcampus\\ai\\llm-bot\\venv\\lib\\site-packages (from openai) (4.66.5)\n",
      "Requirement already satisfied: typing-extensions<5,>=4.11 in c:\\users\\osmin\\workspace\\fastcampus\\ai\\llm-bot\\venv\\lib\\site-packages (from openai) (4.12.2)\n",
      "Requirement already satisfied: idna>=2.8 in c:\\users\\osmin\\workspace\\fastcampus\\ai\\llm-bot\\venv\\lib\\site-packages (from anyio<5,>=3.5.0->openai) (3.7)\n",
      "Requirement already satisfied: certifi in c:\\users\\osmin\\workspace\\fastcampus\\ai\\llm-bot\\venv\\lib\\site-packages (from httpx<1,>=0.23.0->openai) (2024.7.4)\n",
      "Requirement already satisfied: httpcore==1.* in c:\\users\\osmin\\workspace\\fastcampus\\ai\\llm-bot\\venv\\lib\\site-packages (from httpx<1,>=0.23.0->openai) (1.0.5)\n",
      "Requirement already satisfied: h11<0.15,>=0.13 in c:\\users\\osmin\\workspace\\fastcampus\\ai\\llm-bot\\venv\\lib\\site-packages (from httpcore==1.*->httpx<1,>=0.23.0->openai) (0.14.0)\n",
      "Requirement already satisfied: annotated-types>=0.4.0 in c:\\users\\osmin\\workspace\\fastcampus\\ai\\llm-bot\\venv\\lib\\site-packages (from pydantic<3,>=1.9.0->openai) (0.7.0)\n",
      "Requirement already satisfied: pydantic-core==2.20.1 in c:\\users\\osmin\\workspace\\fastcampus\\ai\\llm-bot\\venv\\lib\\site-packages (from pydantic<3,>=1.9.0->openai) (2.20.1)\n",
      "Requirement already satisfied: colorama in c:\\users\\osmin\\workspace\\fastcampus\\ai\\llm-bot\\venv\\lib\\site-packages (from tqdm>4->openai) (0.4.6)\n"
     ]
    }
   ],
   "source": [
    "pip install openai"
   ]
  },
  {
   "cell_type": "code",
   "execution_count": 8,
   "metadata": {},
   "outputs": [
    {
     "data": {
      "text/plain": [
       "'좋다는 말씀 감사합니다! 무엇을 도와드릴까요?'"
      ]
     },
     "execution_count": 8,
     "metadata": {},
     "output_type": "execute_result"
    }
   ],
   "source": [
    "from openai import OpenAI\n",
    "from dotenv import load_dotenv # root 경로에 있는 .env 파일의 변수를 읽어옴\n",
    "import os\n",
    "load_dotenv()\n",
    "api_key = os.getenv('OPENAI_API_KEY')\n",
    "api_key\n",
    "\n",
    "client = OpenAI(\n",
    "    api_key = api_key\n",
    ")\n",
    "\n",
    "input_msg = input('오늘 기분이 어떠세요?')\n",
    "\n",
    "res = client.chat.completions.create(\n",
    "    model = os.getenv('OPENAI_MODEL_NAME'), \n",
    "    messages = [{ \n",
    "        'role':'user',\n",
    "        'content':input_msg\n",
    "    }]\n",
    ")\n",
    "res.choices[0].message.content\n",
    "# API 구매해야 함."
   ]
  },
  {
   "cell_type": "code",
   "execution_count": null,
   "metadata": {},
   "outputs": [],
   "source": [
    "# res.choices[0].message.content"
   ]
  }
 ],
 "metadata": {
  "kernelspec": {
   "display_name": "venv",
   "language": "python",
   "name": "python3"
  },
  "language_info": {
   "codemirror_mode": {
    "name": "ipython",
    "version": 3
   },
   "file_extension": ".py",
   "mimetype": "text/x-python",
   "name": "python",
   "nbconvert_exporter": "python",
   "pygments_lexer": "ipython3",
   "version": "3.12.5"
  }
 },
 "nbformat": 4,
 "nbformat_minor": 2
}
